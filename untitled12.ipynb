{
  "nbformat": 4,
  "nbformat_minor": 0,
  "metadata": {
    "colab": {
      "provenance": [],
      "authorship_tag": "ABX9TyPEFD+FEh56+EdWdamGCvpi",
      "include_colab_link": true
    },
    "kernelspec": {
      "name": "python3",
      "display_name": "Python 3"
    },
    "language_info": {
      "name": "python"
    }
  },
  "cells": [
    {
      "cell_type": "markdown",
      "metadata": {
        "id": "view-in-github",
        "colab_type": "text"
      },
      "source": [
        "<a href=\"https://colab.research.google.com/github/minchang12/colab/blob/main/untitled12.ipynb\" target=\"_parent\"><img src=\"https://colab.research.google.com/assets/colab-badge.svg\" alt=\"Open In Colab\"/></a>"
      ]
    },
    {
      "cell_type": "code",
      "execution_count": null,
      "metadata": {
        "colab": {
          "base_uri": "https://localhost:8080/"
        },
        "id": "cbNxjkm5Hwoi",
        "outputId": "e4362ff5-314e-4201-e05a-a6d05916b05d"
      },
      "outputs": [
        {
          "output_type": "stream",
          "name": "stdout",
          "text": [
            "***물품과 재고량 입력 ***\n",
            "입력 물품 :3\n",
            "재고량 :4\n",
            "{'3': 4}\n"
          ]
        }
      ],
      "source": [
        "store = {}\n",
        "print(\"***물품과 재고량 입력 ***\")\n",
        "article = input(\"입력 물품 :\")\n",
        "store[article] = int(input(\"재고량 :\"))\n",
        "print(store)"
      ]
    },
    {
      "cell_type": "code",
      "source": [
        "store = {}\n",
        "print(\"***물품과 재고량 입력 ***\")\n",
        "while True :\n",
        "  item = input(\"입력 물품 ==>\")\n",
        "  if item == \"z\" :\n",
        "    break\n",
        "  count = int(input(\"재고량\" ==>\"))\n",
        "  store[item] = count\n",
        "print(\"***물품의 재고량 확인***\")\n",
        "while True :\n",
        "  item = input(\"찾을 물품 ==>\")\n",
        "  if item ==\"\" :\n",
        "    break\n",
        "  if item in store :\n",
        "    print(sotre[item], \"개 남았어요\")\n",
        "  else :\n",
        "    print(\"그 물품은 없어요\")"
      ],
      "metadata": {
        "colab": {
          "base_uri": "https://localhost:8080/",
          "height": 136
        },
        "id": "aYcWLYFYIiWN",
        "outputId": "5bb2e6ab-2a0f-4451-b4ea-04aa585c7d09"
      },
      "execution_count": null,
      "outputs": [
        {
          "output_type": "error",
          "ename": "SyntaxError",
          "evalue": "ignored",
          "traceback": [
            "\u001b[0;36m  File \u001b[0;32m\"<ipython-input-3-1906153ee90e>\"\u001b[0;36m, line \u001b[0;32m7\u001b[0m\n\u001b[0;31m    count = int(input(\"재고량\" ==>\"))\u001b[0m\n\u001b[0m                              ^\u001b[0m\n\u001b[0;31mSyntaxError\u001b[0m\u001b[0;31m:\u001b[0m invalid syntax\n"
          ]
        }
      ]
    },
    {
      "cell_type": "code",
      "source": [
        "#!pip3 install ColabTurtle\n",
        "import ColabTurtle.Turrtle as True\n",
        "shapeList = [\"arrow\", \"circle\", \"square\", \"triangle\", \"turtle\"]"
      ],
      "metadata": {
        "id": "l5A9T_q0OGad"
      },
      "execution_count": null,
      "outputs": []
    },
    {
      "cell_type": "code",
      "source": [
        "#!pip3 install ColabTurtle\n",
        "import ColabTurtle.Turtle as turtle\n",
        "import random\n",
        "myT=[]\n",
        "shapeList = [\"circle\", \"turtle\"]\n",
        "colorList = [\"red\", \"blue\", \"yellow\", \"black\", \"green\"]\n",
        "turtle.initializeTurtle()\n",
        "for i in range(0,100) :\n",
        "  color = random.choice(colorList)\n",
        "  shap = random.choice(shapeList)\n",
        "  x = random .randint(0,750)\n",
        "  y = random .randint(0,550)\n",
        "  myturtle = turtle.turtle_shape = shap\n",
        "  tup = (myturtle, clolr, x, y)\n",
        "  myT.append(tup)\n",
        "\n",
        "for t in myT:\n",
        "  turtle.color(t[1])\n",
        "  turtle.goto(t[2], t[3])\n",
        "  turtle.home()\n",
        "#help(turtle)"
      ],
      "metadata": {
        "colab": {
          "base_uri": "https://localhost:8080/",
          "height": 390
        },
        "id": "WqKWa9mOVFTD",
        "outputId": "85770f89-447f-4faf-c4d5-b39e8def3c4d"
      },
      "execution_count": null,
      "outputs": [
        {
          "output_type": "error",
          "ename": "ModuleNotFoundError",
          "evalue": "ignored",
          "traceback": [
            "\u001b[0;31m---------------------------------------------------------------------------\u001b[0m",
            "\u001b[0;31mModuleNotFoundError\u001b[0m                       Traceback (most recent call last)",
            "\u001b[0;32m<ipython-input-5-1df6489954e7>\u001b[0m in \u001b[0;36m<module>\u001b[0;34m\u001b[0m\n\u001b[1;32m      1\u001b[0m \u001b[0;31m#!pip3 install ColabTurtle\u001b[0m\u001b[0;34m\u001b[0m\u001b[0;34m\u001b[0m\u001b[0;34m\u001b[0m\u001b[0m\n\u001b[0;32m----> 2\u001b[0;31m \u001b[0;32mimport\u001b[0m \u001b[0mColabTurtle\u001b[0m\u001b[0;34m,\u001b[0m\u001b[0mTurtle\u001b[0m \u001b[0;32mas\u001b[0m \u001b[0mturtle\u001b[0m\u001b[0;34m\u001b[0m\u001b[0;34m\u001b[0m\u001b[0m\n\u001b[0m\u001b[1;32m      3\u001b[0m \u001b[0;32mimport\u001b[0m \u001b[0mrandom\u001b[0m\u001b[0;34m\u001b[0m\u001b[0;34m\u001b[0m\u001b[0m\n\u001b[1;32m      4\u001b[0m \u001b[0mmyT\u001b[0m\u001b[0;34m=\u001b[0m\u001b[0;34m[\u001b[0m\u001b[0;34m]\u001b[0m\u001b[0;34m\u001b[0m\u001b[0;34m\u001b[0m\u001b[0m\n\u001b[1;32m      5\u001b[0m \u001b[0mshapeList\u001b[0m \u001b[0;34m=\u001b[0m \u001b[0;34m[\u001b[0m\u001b[0;34m\"circle\"\u001b[0m\u001b[0;34m,\u001b[0m \u001b[0;34m\"turtle\"\u001b[0m\u001b[0;34m]\u001b[0m\u001b[0;34m\u001b[0m\u001b[0;34m\u001b[0m\u001b[0m\n",
            "\u001b[0;31mModuleNotFoundError\u001b[0m: No module named 'ColabTurtle'",
            "",
            "\u001b[0;31m---------------------------------------------------------------------------\u001b[0;32m\nNOTE: If your import is failing due to a missing package, you can\nmanually install dependencies using either !pip or !apt.\n\nTo view examples of installing some common dependencies, click the\n\"Open Examples\" button below.\n\u001b[0;31m---------------------------------------------------------------------------\u001b[0m\n"
          ],
          "errorDetails": {
            "actions": [
              {
                "action": "open_url",
                "actionText": "Open Examples",
                "url": "/notebooks/snippets/importing_libraries.ipynb"
              }
            ]
          }
        }
      ]
    }
  ]
}