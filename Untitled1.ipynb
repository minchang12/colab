{
  "nbformat": 4,
  "nbformat_minor": 0,
  "metadata": {
    "colab": {
      "name": "Untitled1.ipynb",
      "provenance": [],
      "authorship_tag": "ABX9TyPRChcaZ3HCw10cHJL8PgnC",
      "include_colab_link": true
    },
    "kernelspec": {
      "name": "python3",
      "display_name": "Python 3"
    },
    "language_info": {
      "name": "python"
    }
  },
  "cells": [
    {
      "cell_type": "markdown",
      "metadata": {
        "id": "view-in-github",
        "colab_type": "text"
      },
      "source": [
        "<a href=\"https://colab.research.google.com/github/minchang12/colab/blob/main/Untitled1.ipynb\" target=\"_parent\"><img src=\"https://colab.research.google.com/assets/colab-badge.svg\" alt=\"Open In Colab\"/></a>"
      ]
    },
    {
      "cell_type": "code",
      "execution_count": null,
      "metadata": {
        "id": "EvAUPZsLVHbm"
      },
      "outputs": [],
      "source": [
        ""
      ]
    },
    {
      "cell_type": "markdown",
      "source": [
        "#파이썬 시작하기\n",
        "\n",
        "\n",
        "*   프로그래밍 언어\n",
        " * 컴퓨터와 스마트폰에 들어있는 많은 소프트웨어 유튜브, 메세지, 전화, 카카오톡 등\n",
        " * 프로그램, 소프트웨어, 애플리케이션, 앱 , 응용프로그램 모두 동일한 용어입니다.\n",
        "\n",
        "\n",
        "*   프로그래밍 (Programming)\n",
        " * 프로그램을 만드는 작업\n",
        "\n",
        "\n",
        "*   프로그래밍 언어(Programming language)\n",
        " * 사람이 이해하는 말을 언어라고 부르듯이 컴퓨터가 이해하는 언어를 의미\n",
        "\n",
        "\n",
        "*   프로그래머(Programmer)\n",
        " * 프로그래밍 언어를 사용하여 소프트웨어나 앱을 만드는 직업을 가진 사람을 의미\n",
        "\n",
        "\n",
        "\n",
        "\n",
        "\n",
        "\n"
      ],
      "metadata": {
        "id": "DuE9Kd89VMdP"
      }
    }
  ]
}