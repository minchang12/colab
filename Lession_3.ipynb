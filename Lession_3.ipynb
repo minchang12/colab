{
  "nbformat": 4,
  "nbformat_minor": 0,
  "metadata": {
    "colab": {
      "name": "Lession-3.ipynb",
      "provenance": [],
      "authorship_tag": "ABX9TyNDiJOE7xzSiPDw/NL/C5+m",
      "include_colab_link": true
    },
    "kernelspec": {
      "name": "python3",
      "display_name": "Python 3"
    },
    "language_info": {
      "name": "python"
    },
    "gpuClass": "standard"
  },
  "cells": [
    {
      "cell_type": "markdown",
      "metadata": {
        "id": "view-in-github",
        "colab_type": "text"
      },
      "source": [
        "<a href=\"https://colab.research.google.com/github/minchang12/colab/blob/main/Lession_3.ipynb\" target=\"_parent\"><img src=\"https://colab.research.google.com/assets/colab-badge.svg\" alt=\"Open In Colab\"/></a>"
      ]
    },
    {
      "cell_type": "markdown",
      "source": [
        "연산자 예제"
      ],
      "metadata": {
        "id": "sdA77M694ia3"
      }
    },
    {
      "cell_type": "code",
      "execution_count": null,
      "metadata": {
        "colab": {
          "base_uri": "https://localhost:8080/"
        },
        "id": "LepcjJCN4c1Y",
        "outputId": "c24e6b16-9a4a-4fd0-9378-d9082c70844d"
      },
      "outputs": [
        {
          "output_type": "stream",
          "name": "stdout",
          "text": [
            "나눠지는 수 ==>30\n",
            "나누는 수 ==>5\n",
            "30 을(를) 5 (으)로 나눈 몫은 6 입니다.\n",
            "30 을(를) 5 (으)로 나눈 나머지는 0 입니다.\n"
          ]
        }
      ],
      "source": [
        "num1 = int(input(\"나눠지는 수 ==>\"))\n",
        "num2 = int(input(\"나누는 수 ==>\"))\n",
        "q = num1 // num2\n",
        "r = num1 % num2\n",
        "print(num1, '을(를)', num2, '(으)로 나눈 몫은', q, '입니다.')\n",
        "print(num1, '을(를)', num2, '(으)로 나눈 나머지는', r, '입니다.')"
      ]
    },
    {
      "cell_type": "markdown",
      "source": [
        "짝수 홀수 구하는 식   "
      ],
      "metadata": {
        "id": "LFCB1Q0_5YV1"
      }
    },
    {
      "cell_type": "code",
      "source": [
        "num = int(input(\"정수를 입력 ==>\"))\n",
        "\n",
        "if num%2 == 0 :\n",
        "  print(num, \"은(는) 짝수입니다.\")\n",
        "else :\n",
        "  print(num, \"은(는) 홀수입니다.\")"
      ],
      "metadata": {
        "colab": {
          "base_uri": "https://localhost:8080/"
        },
        "id": "_dF6-9X45bxn",
        "outputId": "cc9bd72e-47d4-407f-b43f-453da174f724"
      },
      "execution_count": null,
      "outputs": [
        {
          "output_type": "stream",
          "name": "stdout",
          "text": [
            "정수를 입력 ==>35\n",
            "35 은(는) 홀수입니다.\n"
          ]
        }
      ]
    },
    {
      "cell_type": "code",
      "source": [
        "p = int(input(\"파운드(lb)를 입력하세요 :\"))\n",
        "kg = pound * 0.453592\n",
        "print(pound, \"파운드(lb)는\", round(kg, 5), \"킬로그램(kg)입니다.\")\n",
        "\n",
        "kg = int(input(\"킬로그램(kg)을 입력하세요. :\"))\n",
        "pound = kg * 2.204623\n",
        "print(kg, \"킬로그램(kg)은\", round(p,5), \"파운드(lb)입니다.\")"
      ],
      "metadata": {
        "colab": {
          "base_uri": "https://localhost:8080/",
          "height": 266
        },
        "id": "gTDpM5jg7Vdh",
        "outputId": "f2b8d6ce-8825-4fa4-f3ea-994fc2121a9d"
      },
      "execution_count": null,
      "outputs": [
        {
          "name": "stdout",
          "output_type": "stream",
          "text": [
            "파운드(lb)를 입력하세요 :52\n"
          ]
        },
        {
          "output_type": "error",
          "ename": "NameError",
          "evalue": "ignored",
          "traceback": [
            "\u001b[0;31m---------------------------------------------------------------------------\u001b[0m",
            "\u001b[0;31mNameError\u001b[0m                                 Traceback (most recent call last)",
            "\u001b[0;32m<ipython-input-7-d409746498c2>\u001b[0m in \u001b[0;36m<module>\u001b[0;34m\u001b[0m\n\u001b[1;32m      1\u001b[0m \u001b[0mp\u001b[0m \u001b[0;34m=\u001b[0m \u001b[0mint\u001b[0m\u001b[0;34m(\u001b[0m\u001b[0minput\u001b[0m\u001b[0;34m(\u001b[0m\u001b[0;34m\"파운드(lb)를 입력하세요 :\"\u001b[0m\u001b[0;34m)\u001b[0m\u001b[0;34m)\u001b[0m\u001b[0;34m\u001b[0m\u001b[0;34m\u001b[0m\u001b[0m\n\u001b[0;32m----> 2\u001b[0;31m \u001b[0mkg\u001b[0m \u001b[0;34m=\u001b[0m \u001b[0mpound\u001b[0m \u001b[0;34m*\u001b[0m \u001b[0;36m0.453592\u001b[0m\u001b[0;34m\u001b[0m\u001b[0;34m\u001b[0m\u001b[0m\n\u001b[0m\u001b[1;32m      3\u001b[0m \u001b[0mprint\u001b[0m\u001b[0;34m(\u001b[0m\u001b[0mpound\u001b[0m\u001b[0;34m,\u001b[0m \u001b[0;34m\"파운드(lb)는\"\u001b[0m\u001b[0;34m,\u001b[0m \u001b[0mround\u001b[0m\u001b[0;34m(\u001b[0m\u001b[0mkg\u001b[0m\u001b[0;34m,\u001b[0m \u001b[0;36m5\u001b[0m\u001b[0;34m)\u001b[0m\u001b[0;34m,\u001b[0m \u001b[0;34m\"킬로그램(kg)입니다.\"\u001b[0m\u001b[0;34m)\u001b[0m\u001b[0;34m\u001b[0m\u001b[0;34m\u001b[0m\u001b[0m\n\u001b[1;32m      4\u001b[0m \u001b[0;34m\u001b[0m\u001b[0m\n\u001b[1;32m      5\u001b[0m \u001b[0mkg\u001b[0m \u001b[0;34m=\u001b[0m \u001b[0mint\u001b[0m\u001b[0;34m(\u001b[0m\u001b[0minput\u001b[0m\u001b[0;34m(\u001b[0m\u001b[0;34m\"킬로그램(kg)을 입력하세요. :\"\u001b[0m\u001b[0;34m)\u001b[0m\u001b[0;34m)\u001b[0m\u001b[0;34m\u001b[0m\u001b[0;34m\u001b[0m\u001b[0m\n",
            "\u001b[0;31mNameError\u001b[0m: name 'pound' is not defined"
          ]
        }
      ]
    },
    {
      "cell_type": "code",
      "source": [
        "weight = float(input(\"몸무개를 입력 ==>\"))\n",
        "height = float(input(\"키(신장)을 입력(cm) ==>\"))\n",
        "height = height * 0.01\n",
        "bmi = weight / (height * height)\n",
        "print(\"당신의 bmi : \",round(bmi, 3)21)"
      ],
      "metadata": {
        "colab": {
          "base_uri": "https://localhost:8080/"
        },
        "id": "Xtufsnuk988V",
        "outputId": "130294ca-741a-40a7-9218-24ae6954745c"
      },
      "execution_count": null,
      "outputs": [
        {
          "output_type": "stream",
          "name": "stdout",
          "text": [
            "몸무개를 입력 ==>68\n",
            "키(신장)을 입력(cm) ==>180\n",
            "당신의 bmi :  20.988\n"
          ]
        }
      ]
    },
    {
      "cell_type": "code",
      "source": [
        "total = 0\n",
        "#구입한 물품\n",
        "total -= 900 * 10 #삼각김밥 10개\n",
        "total -= 3500 * 5 #삼각김밥 5개\n",
        "\n",
        "#판매한 물품\n",
        "total +=1800 * 2 #바나나맛 우유\n",
        "total +=4000 * 4 #도시락 4개\n",
        "total +=1500 #콜라 1개\n",
        "total +=2000 * 4 #새우깡 4개\n",
        "total +=1800 * 5 #캔커피 5개"
      ],
      "metadata": {
        "id": "GN0pxx74APQH"
      },
      "execution_count": null,
      "outputs": []
    },
    {
      "cell_type": "code",
      "source": [
        "score = int(input(\"필기 시험점수를 입력하세요 :\"))\n",
        "print(score >=70)"
      ],
      "metadata": {
        "id": "NBRyi1OfE5A4"
      },
      "execution_count": null,
      "outputs": []
    },
    {
      "cell_type": "code",
      "source": [
        "python = 3\n",
        "mobile = 2\n",
        "excel = 1\n",
        "\n",
        "A = 4.5\n",
        "A0 = 4.0\n",
        "B = 3.5\n",
        "\n",
        "avg = ((python * B)+(mobile * A0) + (excel * A)) / (python + mobile + excel)\n",
        "print(\"평균 학점:\" , avg)"
      ],
      "metadata": {
        "id": "lxyLKUmuFMxm"
      },
      "execution_count": null,
      "outputs": []
    },
    {
      "cell_type": "code",
      "source": [
        "!pip3 install ColabTurtle\n",
        "import ColabTurtle.Turtle as turtle\n",
        "\n",
        "turtle.initializeTurtle()\n",
        "while Trre :\n",
        "  angle = int(input(\"거북이의 회전 각도 :\"))\n",
        "  if angle == 0 :\n",
        "    break:\n",
        "    distance = int (input (:거북이의 이동거리:))\n",
        "    \n",
        "    turtle.left(angle)\n",
        "    turtle.forward(distance)\n",
        "  #print(angle, distance)\n"
      ],
      "metadata": {
        "id": "G8bnu5-PITAo"
      },
      "execution_count": null,
      "outputs": []
    }
  ]
}