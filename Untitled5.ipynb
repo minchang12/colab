{
  "nbformat": 4,
  "nbformat_minor": 0,
  "metadata": {
    "colab": {
      "name": "Untitled5.ipynb",
      "provenance": [],
      "authorship_tag": "ABX9TyMPogVfWsU6VmAXOB+zO990",
      "include_colab_link": true
    },
    "kernelspec": {
      "name": "python3",
      "display_name": "Python 3"
    },
    "language_info": {
      "name": "python"
    }
  },
  "cells": [
    {
      "cell_type": "markdown",
      "metadata": {
        "id": "view-in-github",
        "colab_type": "text"
      },
      "source": [
        "<a href=\"https://colab.research.google.com/github/minchang12/colab/blob/main/Untitled5.ipynb\" target=\"_parent\"><img src=\"https://colab.research.google.com/assets/colab-badge.svg\" alt=\"Open In Colab\"/></a>"
      ]
    },
    {
      "cell_type": "code",
      "execution_count": null,
      "metadata": {
        "id": "jEIMjdrNIIgv"
      },
      "outputs": [],
      "source": [
        "#ip!p3 install ColabTurtle\n",
        "import ColabTurtle. Turtle as turtle\n",
        "turtle.initiailzeTurtle()\n",
        "\n",
        "turtle.goto(x,y)\n",
        "turtle.write(text, font=(\"Arial\", 30))"
      ]
    },
    {
      "cell_type": "code",
      "source": [
        "num = int(input(\"정수를 입력 :\"))\n",
        "\n",
        "if (num%2) == 0 :\n",
        "  print(num, \"짝수입니다.\")\n",
        "\n",
        "if (num%2) == 2 :\n",
        "  print(num, \"홀수입니다.\")"
      ],
      "metadata": {
        "colab": {
          "base_uri": "https://localhost:8080/"
        },
        "id": "o7wuVb4oQzjM",
        "outputId": "b74cf0a8-d253-4779-d3aa-4f4b1be0920f"
      },
      "execution_count": 5,
      "outputs": [
        {
          "output_type": "stream",
          "name": "stdout",
          "text": [
            "정수를 입력 :12\n",
            "12 짝수입니다.\n"
          ]
        }
      ]
    }
  ]
}