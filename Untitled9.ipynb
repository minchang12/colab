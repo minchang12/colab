{
  "nbformat": 4,
  "nbformat_minor": 0,
  "metadata": {
    "colab": {
      "provenance": [],
      "collapsed_sections": [],
      "authorship_tag": "ABX9TyOHfciRGuuFlBz13wjX8BIL",
      "include_colab_link": true
    },
    "kernelspec": {
      "name": "python3",
      "display_name": "Python 3"
    },
    "language_info": {
      "name": "python"
    }
  },
  "cells": [
    {
      "cell_type": "markdown",
      "metadata": {
        "id": "view-in-github",
        "colab_type": "text"
      },
      "source": [
        "<a href=\"https://colab.research.google.com/github/minchang12/colab/blob/main/Untitled9.ipynb\" target=\"_parent\"><img src=\"https://colab.research.google.com/assets/colab-badge.svg\" alt=\"Open In Colab\"/></a>"
      ]
    },
    {
      "cell_type": "code",
      "execution_count": 1,
      "metadata": {
        "colab": {
          "base_uri": "https://localhost:8080/"
        },
        "id": "jxH6e2t_--oY",
        "outputId": "0b8499a5-4337-48f9-c0f8-9c5c59eaa47f"
      },
      "outputs": [
        {
          "output_type": "stream",
          "name": "stdout",
          "text": [
            "2 x 1 = 2\n",
            "2 x 2 = 4\n",
            "2 x 3 = 6\n",
            "2 x 4 = 8\n",
            "2 x 5 = 10\n",
            "2 x 6 = 12\n",
            "2 x 7 = 14\n",
            "2 x 8 = 16\n",
            "2 x 9 = 18\n",
            "\n",
            "3 x 1 = 3\n",
            "3 x 2 = 6\n",
            "3 x 3 = 9\n",
            "3 x 4 = 12\n",
            "3 x 5 = 15\n",
            "3 x 6 = 18\n",
            "3 x 7 = 21\n",
            "3 x 8 = 24\n",
            "3 x 9 = 27\n",
            "\n",
            "4 x 1 = 4\n",
            "4 x 2 = 8\n",
            "4 x 3 = 12\n",
            "4 x 4 = 16\n",
            "4 x 5 = 20\n",
            "4 x 6 = 24\n",
            "4 x 7 = 28\n",
            "4 x 8 = 32\n",
            "4 x 9 = 36\n",
            "\n",
            "5 x 1 = 5\n",
            "5 x 2 = 10\n",
            "5 x 3 = 15\n",
            "5 x 4 = 20\n",
            "5 x 5 = 25\n",
            "5 x 6 = 30\n",
            "5 x 7 = 35\n",
            "5 x 8 = 40\n",
            "5 x 9 = 45\n",
            "\n",
            "6 x 1 = 6\n",
            "6 x 2 = 12\n",
            "6 x 3 = 18\n",
            "6 x 4 = 24\n",
            "6 x 5 = 30\n",
            "6 x 6 = 36\n",
            "6 x 7 = 42\n",
            "6 x 8 = 48\n",
            "6 x 9 = 54\n",
            "\n",
            "7 x 1 = 7\n",
            "7 x 2 = 14\n",
            "7 x 3 = 21\n",
            "7 x 4 = 28\n",
            "7 x 5 = 35\n",
            "7 x 6 = 42\n",
            "7 x 7 = 49\n",
            "7 x 8 = 56\n",
            "7 x 9 = 63\n",
            "\n",
            "8 x 1 = 8\n",
            "8 x 2 = 16\n",
            "8 x 3 = 24\n",
            "8 x 4 = 32\n",
            "8 x 5 = 40\n",
            "8 x 6 = 48\n",
            "8 x 7 = 56\n",
            "8 x 8 = 64\n",
            "8 x 9 = 72\n",
            "\n",
            "9 x 1 = 9\n",
            "9 x 2 = 18\n",
            "9 x 3 = 27\n",
            "9 x 4 = 36\n",
            "9 x 5 = 45\n",
            "9 x 6 = 54\n",
            "9 x 7 = 63\n",
            "9 x 8 = 72\n",
            "9 x 9 = 81\n",
            "\n"
          ]
        }
      ],
      "source": [
        "i = 0\n",
        "j = 0\n",
        "\n",
        "for i in range(2,10) :\n",
        "  for j in range(1,10) :\n",
        "    print(i,\"x\", j, \"=\", i * j)\n",
        "  print(\"\")"
      ]
    },
    {
      "cell_type": "code",
      "source": [
        "hap = 0\n",
        "num1, num2 = 0,0\n",
        "\n",
        "while True :\n",
        "  num1=int(input(\"숫자1==>\"))\n",
        "  num1=int(input(\"숫자2==>\"))\n",
        "\n",
        "  hap = num1 + num2\n",
        "  print(num1, \"+\", num2, \"=\", hap)"
      ],
      "metadata": {
        "colab": {
          "base_uri": "https://localhost:8080/"
        },
        "id": "wslQmJbW_jEG",
        "outputId": "f0f690b3-dc97-4370-8d3e-91f5c685df96"
      },
      "execution_count": null,
      "outputs": [
        {
          "output_type": "stream",
          "name": "stdout",
          "text": [
            "숫자1==>3\n",
            "숫자2==>5\n",
            "5 + 0 = 5\n",
            "숫자1==>1\n",
            "숫자2==>2\n",
            "2 + 0 = 2\n",
            "숫자1==>5\n",
            "숫자2==>9\n",
            "9 + 0 = 9\n",
            "숫자1==>0\n",
            "숫자2==>0\n",
            "0 + 0 = 0\n"
          ]
        }
      ]
    },
    {
      "cell_type": "code",
      "source": [
        "while Ture:\n",
        "  num1= input(\"숫자1 입력=>\")\n",
        "  if num1 == \"0\" : break\n",
        "  num2= input(\"숫자2 입력 =>\")\n",
        "  result = float(num1)+float(num2)\n",
        "  print(num1, \"+\", num2, \"=\", result)"
      ],
      "metadata": {
        "id": "2rxVxCm9BqdU"
      },
      "execution_count": null,
      "outputs": []
    },
    {
      "cell_type": "code",
      "source": [
        "import random\n",
        "count=0\n",
        "while Ture :\n",
        "  r1, r2= random.randint(1,6), random.randint(1,6)\n",
        "  r3=random.randint(1,6)\n",
        "  count = count + 1\n",
        "  if r1==r2==r3 : break\n",
        "print(\"3개의 주사위는 모두\", r1, \"나왔다.\")\n",
        "print(\"같은 숫자가 나오기까지\", count, \"번 던졌습니다.\")"
      ],
      "metadata": {
        "id": "SeqAhkDaDqrG"
      },
      "execution_count": null,
      "outputs": []
    },
    {
      "cell_type": "code",
      "source": [
        "import random"
      ],
      "metadata": {
        "id": "3tNzr0vRGG5D"
      },
      "execution_count": null,
      "outputs": []
    }
  ]
}