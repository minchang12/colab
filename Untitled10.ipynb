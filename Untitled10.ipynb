{
  "nbformat": 4,
  "nbformat_minor": 0,
  "metadata": {
    "colab": {
      "provenance": [],
      "authorship_tag": "ABX9TyNJsHmuZVc6FwYIaNTOthIn",
      "include_colab_link": true
    },
    "kernelspec": {
      "name": "python3",
      "display_name": "Python 3"
    },
    "language_info": {
      "name": "python"
    }
  },
  "cells": [
    {
      "cell_type": "markdown",
      "metadata": {
        "id": "view-in-github",
        "colab_type": "text"
      },
      "source": [
        "<a href=\"https://colab.research.google.com/github/minchang12/colab/blob/main/Untitled10.ipynb\" target=\"_parent\"><img src=\"https://colab.research.google.com/assets/colab-badge.svg\" alt=\"Open In Colab\"/></a>"
      ]
    },
    {
      "cell_type": "code",
      "execution_count": null,
      "metadata": {
        "id": "JgqKQhnBtvA8"
      },
      "outputs": [],
      "source": []
    },
    {
      "cell_type": "code",
      "source": [
        "#!pip3 install ColabTurtle\n",
        "import Colab Turtle.Turtle as turtle\n",
        "import random\n",
        "print(turtle.DEAFULT_WINDOW_SIZE)\n",
        "turtle.initializeTurtle()\n",
        "turtle.speed(13)\n",
        "turtle.left(-90)\n",
        "myColor=[\"red\", \"blue\". \"green\", \"yellow\", \"violet\"]\n",
        "for i in range(50, 800, 50) :\n",
        "  for j in range(50, 500, 50) :\n",
        "    turtle.penup()\n",
        "    turtle.goto(i,j)\n",
        "    turtle.pendown()\n",
        "    turtle.color(random.choice(myColor))\n",
        "    turtld.forward(1)"
      ],
      "metadata": {
        "colab": {
          "base_uri": "https://localhost:8080/",
          "height": 137
        },
        "id": "EZ2Yy2M41Vo3",
        "outputId": "e3ac91ec-ac81-450e-9ca7-047d36170737"
      },
      "execution_count": 1,
      "outputs": [
        {
          "output_type": "error",
          "ename": "SyntaxError",
          "evalue": "ignored",
          "traceback": [
            "\u001b[0;36m  File \u001b[0;32m\"<ipython-input-1-d0d057dc0107>\"\u001b[0;36m, line \u001b[0;32m2\u001b[0m\n\u001b[0;31m    import Colab Turtle.Turtle as turtle\u001b[0m\n\u001b[0m                      ^\u001b[0m\n\u001b[0;31mSyntaxError\u001b[0m\u001b[0;31m:\u001b[0m invalid syntax\n"
          ]
        }
      ]
    }
  ]
}