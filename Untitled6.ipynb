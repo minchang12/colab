{
  "nbformat": 4,
  "nbformat_minor": 0,
  "metadata": {
    "colab": {
      "name": "Untitled6.ipynb",
      "provenance": [],
      "authorship_tag": "ABX9TyNGfWWqNnbhJrTlkbs7j5ks",
      "include_colab_link": true
    },
    "kernelspec": {
      "name": "python3",
      "display_name": "Python 3"
    },
    "language_info": {
      "name": "python"
    }
  },
  "cells": [
    {
      "cell_type": "markdown",
      "metadata": {
        "id": "view-in-github",
        "colab_type": "text"
      },
      "source": [
        "<a href=\"https://colab.research.google.com/github/minchang12/colab/blob/main/Untitled6.ipynb\" target=\"_parent\"><img src=\"https://colab.research.google.com/assets/colab-badge.svg\" alt=\"Open In Colab\"/></a>"
      ]
    },
    {
      "cell_type": "code",
      "execution_count": 6,
      "metadata": {
        "colab": {
          "base_uri": "https://localhost:8080/",
          "height": 284
        },
        "id": "QC_nZmeETits",
        "outputId": "1259fa34-3d0c-4b04-db50-cce5bfc5b162"
      },
      "outputs": [
        {
          "output_type": "stream",
          "name": "stdout",
          "text": [
            "**컴퓨터가 생각한 숫자를 맞추는 게임**\n",
            "숫자는 1부터 45까지입니다.\n"
          ]
        },
        {
          "output_type": "error",
          "ename": "NameError",
          "evalue": "ignored",
          "traceback": [
            "\u001b[0;31m---------------------------------------------------------------------------\u001b[0m",
            "\u001b[0;31mNameError\u001b[0m                                 Traceback (most recent call last)",
            "\u001b[0;32m<ipython-input-6-559ffdf78c6b>\u001b[0m in \u001b[0;36m<module>\u001b[0;34m\u001b[0m\n\u001b[1;32m      4\u001b[0m \u001b[0mprint\u001b[0m\u001b[0;34m(\u001b[0m\u001b[0;34m\"**컴퓨터가 생각한 숫자를 맞추는 게임**\"\u001b[0m\u001b[0;34m)\u001b[0m\u001b[0;34m\u001b[0m\u001b[0;34m\u001b[0m\u001b[0m\n\u001b[1;32m      5\u001b[0m \u001b[0mprint\u001b[0m\u001b[0;34m(\u001b[0m\u001b[0;34m\"숫자는 1부터 45까지입니다.\"\u001b[0m\u001b[0;34m)\u001b[0m\u001b[0;34m\u001b[0m\u001b[0;34m\u001b[0m\u001b[0m\n\u001b[0;32m----> 6\u001b[0;31m \u001b[0;32mwhile\u001b[0m \u001b[0mcom_number\u001b[0m \u001b[0;34m!=\u001b[0m\u001b[0muser_number\u001b[0m \u001b[0;34m:\u001b[0m\u001b[0;34m\u001b[0m\u001b[0;34m\u001b[0m\u001b[0m\n\u001b[0m\u001b[1;32m      7\u001b[0m   \u001b[0muser_number\u001b[0m \u001b[0;34m=\u001b[0m \u001b[0mint\u001b[0m\u001b[0;34m(\u001b[0m\u001b[0minput\u001b[0m\u001b[0;34m(\u001b[0m\u001b[0;34m\"숫자를 입력 : \"\u001b[0m\u001b[0;34m)\u001b[0m\u001b[0;34m)\u001b[0m\u001b[0;34m\u001b[0m\u001b[0;34m\u001b[0m\u001b[0m\n\u001b[1;32m      8\u001b[0m \u001b[0;32mif\u001b[0m \u001b[0mcom_number\u001b[0m \u001b[0;34m>\u001b[0m \u001b[0muser_number\u001b[0m \u001b[0;34m:\u001b[0m\u001b[0;34m\u001b[0m\u001b[0;34m\u001b[0m\u001b[0m\n",
            "\u001b[0;31mNameError\u001b[0m: name 'user_number' is not defined"
          ]
        }
      ],
      "source": [
        "import random \n",
        "\n",
        "com_number = random.randint(1,45)\n",
        "print(\"**컴퓨터가 생각한 숫자를 맞추는 게임**\")\n",
        "print(\"숫자는 1부터 45까지입니다.\")\n",
        "while com_number !=user_number :\n",
        "  user_number = int(input(\"숫자를 입력 : \"))\n",
        "if com_number > user_number :\n",
        "  print(\"입력한 숫자가 작습니다.\")\n",
        "if com_number < user_number :\n",
        "  print(\"입력한 숫자가 더 큽니다.\")\n",
        "else :\n",
        "  print(\"정답 \")\n"
      ]
    },
    {
      "cell_type": "code",
      "source": [
        "import random \n",
        "print(\"**가위 바위 보 게임 **)\n",
        "count = 7\n",
        "while count > o :\n",
        "com_player = random/choice([\"가위\", \"바위\", \"보\"])\n",
        "user_player = input(\"가위/바위/보 중 하나를 입력하세요 ==> \")\n",
        "if(com_player == user_player)\n",
        "print(\"비겼다\")\n",
        "elif(com_player == \"바위\")"
      ],
      "metadata": {
        "id": "JSqP-gh2Y5K4"
      },
      "execution_count": null,
      "outputs": []
    }
  ]
}