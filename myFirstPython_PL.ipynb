{
  "nbformat": 4,
  "nbformat_minor": 0,
  "metadata": {
    "colab": {
      "name": "myFirstPython-PL.ipynb",
      "provenance": [],
      "authorship_tag": "ABX9TyMYdE+Uk3AvHw7lc4fKsFPy",
      "include_colab_link": true
    },
    "kernelspec": {
      "name": "python3",
      "display_name": "Python 3"
    },
    "language_info": {
      "name": "python"
    }
  },
  "cells": [
    {
      "cell_type": "markdown",
      "metadata": {
        "id": "view-in-github",
        "colab_type": "text"
      },
      "source": [
        "<a href=\"https://colab.research.google.com/github/minchang12/colab/blob/main/myFirstPython_PL.ipynb\" target=\"_parent\"><img src=\"https://colab.research.google.com/assets/colab-badge.svg\" alt=\"Open In Colab\"/></a>"
      ]
    },
    {
      "cell_type": "code",
      "execution_count": null,
      "metadata": {
        "id": "WOogDOQ9TfiG"
      },
      "outputs": [],
      "source": [
        ""
      ]
    },
    {
      "cell_type": "markdown",
      "source": [
        "나의 첫 파이썬 프로그래밍"
      ],
      "metadata": {
        "id": "haiRXV9vTo2b"
      }
    },
    {
      "cell_type": "code",
      "source": [
        "print(\"컴퓨터과 3학년 1반 02번 곽민창\")"
      ],
      "metadata": {
        "id": "hoIoo5FnTsBF"
      },
      "execution_count": null,
      "outputs": []
    }
  ]
}