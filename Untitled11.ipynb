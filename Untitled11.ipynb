{
  "nbformat": 4,
  "nbformat_minor": 0,
  "metadata": {
    "colab": {
      "provenance": [],
      "authorship_tag": "ABX9TyO17ghlftqvhzWMBm0zVgpM",
      "include_colab_link": true
    },
    "kernelspec": {
      "name": "python3",
      "display_name": "Python 3"
    },
    "language_info": {
      "name": "python"
    }
  },
  "cells": [
    {
      "cell_type": "markdown",
      "metadata": {
        "id": "view-in-github",
        "colab_type": "text"
      },
      "source": [
        "<a href=\"https://colab.research.google.com/github/minchang12/colab/blob/main/Untitled11.ipynb\" target=\"_parent\"><img src=\"https://colab.research.google.com/assets/colab-badge.svg\" alt=\"Open In Colab\"/></a>"
      ]
    },
    {
      "cell_type": "code",
      "execution_count": 1,
      "metadata": {
        "colab": {
          "base_uri": "https://localhost:8080/"
        },
        "id": "H_yNxwn7xqu2",
        "outputId": "29ac9bdf-61ac-4097-f47f-e2687dcfd8b2"
      },
      "outputs": [
        {
          "output_type": "stream",
          "name": "stdout",
          "text": [
            "오늘의 명언 ==> 피할 수 없으면 즐겨라\n"
          ]
        }
      ],
      "source": [
        "import random\n",
        "\n",
        "wiseSay = [\"삶이 있는 한 희망은 있다.\",\n",
        "           \"언제나 현재에 집중할 수 있다면 행복할 것이다.\", \n",
        "           \"신은 용기가 있는 자를 결코 버리지 않는다.\", \n",
        "           \"피할 수 없으면 즐겨라\", \n",
        "           \"행복한 삶을 살기위해 피룡한 것은 거의 없다.\", \n",
        "           \"내일은 내일의 태양이 뜬다.\", \n",
        "           \"행복은 습관이다. 그것을 몸에 지니라\", \n",
        "           \"1퍼센트의 가능성, 그것이 나의 길이다.\"]\n",
        "today = random.randint(0, len(wiseSay)-1)\n",
        "print(\"오늘의 명언 ==>\", wiseSay[today])"
      ]
    },
    {
      "cell_type": "code",
      "source": [
        "numList2= [[1,2,3,4],\n",
        "           [5,6,7,8],\n",
        "           [9,10,11,12]]\n",
        "\n",
        "for i in range(0,3) :\n",
        "  for k in range(0,4) :\n",
        "    print(\"\", numList2[i][k], end='')\n",
        "    print(\"\")"
      ],
      "metadata": {
        "colab": {
          "base_uri": "https://localhost:8080/"
        },
        "id": "j_cOpaFo6z4b",
        "outputId": "fede0fb5-f9c3-46b0-e2f6-a840656f4849"
      },
      "execution_count": 2,
      "outputs": [
        {
          "output_type": "stream",
          "name": "stdout",
          "text": [
            " 1\n",
            " 2\n",
            " 3\n",
            " 4\n",
            " 5\n",
            " 6\n",
            " 7\n",
            " 8\n",
            " 9\n",
            " 10\n",
            " 11\n",
            " 12\n"
          ]
        }
      ]
    },
    {
      "cell_type": "code",
      "source": [
        "print(\"홍길동 선수 경기 끝났습니다. ~ 짝짝짝\")\n",
        "\n",
        "score = []\n",
        "for i in range(5) :\n",
        "  jumsu = int(input(\"평균 점수 ==>\"))\n",
        "  score.append(jumsu)\n",
        "\n",
        "hap=0\n",
        " for i in range(5) :\n",
        "  hap += score[i]\n",
        "\n",
        "avg=hap/5\n",
        "print(\"심사위원 평균점수 : \", avg)"
      ],
      "metadata": {
        "colab": {
          "base_uri": "https://localhost:8080/",
          "height": 137
        },
        "id": "gumCEl4x7VU-",
        "outputId": "d558e61d-08cb-4d4c-f912-17b68b2c2167"
      },
      "execution_count": 4,
      "outputs": [
        {
          "output_type": "error",
          "ename": "IndentationError",
          "evalue": "ignored",
          "traceback": [
            "\u001b[0;36m  File \u001b[0;32m\"<ipython-input-4-5eda8b866234>\"\u001b[0;36m, line \u001b[0;32m9\u001b[0m\n\u001b[0;31m    for i in range(5) :\u001b[0m\n\u001b[0m    ^\u001b[0m\n\u001b[0;31mIndentationError\u001b[0m\u001b[0;31m:\u001b[0m unexpected indent\n"
          ]
        }
      ]
    },
    {
      "cell_type": "code",
      "source": [
        "for i in range(10000) :\n",
        "  comA=random.choice([\"가위\", \"바위\", \"보\"])\n",
        "  comB=random.choice([\"가위\". \"바위\", \"보\"])\n",
        "\n",
        "  if (comA == comB) :\n",
        "    toss/append(\"비김\")\n",
        "  elif (comA==\"가위\") and (comB==\"보\") or \\"
      ],
      "metadata": {
        "id": "Bik_N0GB-W3R"
      },
      "execution_count": null,
      "outputs": []
    },
    {
      "cell_type": "code",
      "source": [],
      "metadata": {
        "id": "S1C0QcaCM55_"
      },
      "execution_count": null,
      "outputs": []
    }
  ]
}