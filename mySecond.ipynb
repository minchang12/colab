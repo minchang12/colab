{
  "nbformat": 4,
  "nbformat_minor": 0,
  "metadata": {
    "colab": {
      "name": "mySecond.ipynb",
      "provenance": [],
      "authorship_tag": "ABX9TyMxh1H3RDuUQNxosqfGfE+0",
      "include_colab_link": true
    },
    "kernelspec": {
      "name": "python3",
      "display_name": "Python 3"
    },
    "language_info": {
      "name": "python"
    }
  },
  "cells": [
    {
      "cell_type": "markdown",
      "metadata": {
        "id": "view-in-github",
        "colab_type": "text"
      },
      "source": [
        "<a href=\"https://colab.research.google.com/github/minchang12/colab/blob/main/mySecond.ipynb\" target=\"_parent\"><img src=\"https://colab.research.google.com/assets/colab-badge.svg\" alt=\"Open In Colab\"/></a>"
      ]
    },
    {
      "cell_type": "code",
      "execution_count": 2,
      "metadata": {
        "colab": {
          "base_uri": "https://localhost:8080/"
        },
        "id": "1iYDCyQqUJtw",
        "outputId": "e7f5c182-21c1-43ff-8a1e-8f47211d65e0"
      },
      "outputs": [
        {
          "output_type": "stream",
          "name": "stdout",
          "text": [
            "두 번째 파일입니다.\n",
            "난생 처음 파이썬을 공부하지만, 점점 익숙해지는거 같아요. :\n"
          ]
        }
      ],
      "source": [
        "print(\"두 번째 파일입니다.\")\n",
        "print(\"난생 처음 파이썬을 공부하지만, 점점 익숙해지는거 같아요. :\")"
      ]
    },
    {
      "cell_type": "markdown",
      "source": [
        ""
      ],
      "metadata": {
        "id": "34RKBrOoUltb"
      }
    },
    {
      "cell_type": "markdown",
      "source": [
        ""
      ],
      "metadata": {
        "id": "zBBrV94lUlw0"
      }
    },
    {
      "cell_type": "code",
      "source": [
        "\"\""
      ],
      "metadata": {
        "id": "xrHToPWRUfXs"
      },
      "execution_count": null,
      "outputs": []
    }
  ]
}