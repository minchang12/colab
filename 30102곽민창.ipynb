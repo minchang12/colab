{
  "nbformat": 4,
  "nbformat_minor": 0,
  "metadata": {
    "colab": {
      "name": "30102곽민창.ipynb",
      "provenance": [],
      "authorship_tag": "ABX9TyOpAW5TMvhHszsh4aImY4dX",
      "include_colab_link": true
    },
    "kernelspec": {
      "name": "python3",
      "display_name": "Python 3"
    },
    "language_info": {
      "name": "python"
    }
  },
  "cells": [
    {
      "cell_type": "markdown",
      "metadata": {
        "id": "view-in-github",
        "colab_type": "text"
      },
      "source": [
        "<a href=\"https://colab.research.google.com/github/minchang12/colab/blob/main/30102%EA%B3%BD%EB%AF%BC%EC%B0%BD.ipynb\" target=\"_parent\"><img src=\"https://colab.research.google.com/assets/colab-badge.svg\" alt=\"Open In Colab\"/></a>"
      ]
    },
    {
      "cell_type": "code",
      "execution_count": null,
      "metadata": {
        "id": "PXcTdMfH-VEl"
      },
      "outputs": [],
      "source": [
        "2022학년도 응용프로그래밍 개발 논술형 컴퓨터과 3학년 1반 2번 곽민창"
      ]
    },
    {
      "cell_type": "code",
      "source": [
        "num1= int(input(\"첫번째 숫자를 입력하시오 : \"))\n",
        "num2= int(input(\"두번째 숫자를 입력하시오 : \"))\n",
        "result = num1 + num2\n",
        "print(num1, \"+\", num2, \"=\", result)\n",
        "result = num1 - num2\n",
        "print(num1, \"-\", num2, \"=\", result)\n",
        "result = num1 * num2\n",
        "print(num1, \"*\", num2, \"=\", result)\n",
        "result = num1 / num2\n",
        "print(num1, \"/\", num2, \"=\", result)"
      ],
      "metadata": {
        "colab": {
          "base_uri": "https://localhost:8080/"
        },
        "id": "NToDcnle-dLA",
        "outputId": "35cdb2eb-8dbc-4a91-e506-1ad86cc6e049"
      },
      "execution_count": 11,
      "outputs": [
        {
          "output_type": "stream",
          "name": "stdout",
          "text": [
            "첫번째 숫자를 입력하시오 : 10\n",
            "두번째 숫자를 입력하시오 : 20\n",
            "10 + 20 = 30\n",
            "10 - 20 = -10\n",
            "10 * 20 = 200\n",
            "10 / 20 = 0.5\n"
          ]
        }
      ]
    }
  ]
}